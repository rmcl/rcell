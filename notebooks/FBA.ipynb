{
 "metadata": {
  "name": "FBA"
 }, 
 "nbformat": 2, 
 "worksheets": [
  {
   "cells": [
    {
     "cell_type": "code", 
     "collapsed": true, 
     "input": [
      "import numpy as np", 
      "import pulp"
     ], 
     "language": "python", 
     "outputs": [], 
     "prompt_number": 16
    }, 
    {
     "cell_type": "code", 
     "collapsed": false, 
     "input": [
      "'''", 
      "Implementation of Flux Based Analysis", 
      "=====================================", 
      "", 
      "References", 
      "----------", 
      "", 
      "* Nat Biotechnol. 2010 March; 28(3): 245\u2013248. doi: 10.1038/nbt.1614", 
      "", 
      "'''", 
      "num_compounds = 5", 
      "num_reactions = 5", 
      "", 
      "'''", 
      "stoichiometric matrix (S), mxn", 
      "Metabolic reactions are represented as a stoichiometric matrix (S), of size", 
      "m*n. Every row of this matrix represents one unique compound (for a system", 
      "with m compounds) and every column represents one reaction (n reactions)", 
      "", 
      "Should be column sparse because each reaction has very few non-zero", 
      "compounds per reaction.", 
      "'''", 
      "S = None", 
      "", 
      "'''", 
      "Flux (v), nx1", 
      "The flux through all of the reactions in a network is represented by the ", 
      "vector v, which has a length of n", 
      "'''", 
      "v = np.zeros((num_compounds,1))", 
      "", 
      "'''", 
      "FBA seeks to maximize or minimize an objective function Z = cTv, which ", 
      "can be any linear combination of fluxes, where c is a vector of weights,", 
      "indicating how much each reaction (such as the biomass reaction when ", 
      "simulating maximum growth) contributes to the objective function. In ", 
      "practice, when only one reaction is desired for maximization or ", 
      "minimization, c is a vector of zeros with a one at the position of the", 
      "reaction of interest.", 
      "'''"
     ], 
     "language": "python", 
     "outputs": [
      {
       "output_type": "pyout", 
       "prompt_number": 12, 
       "text": [
        "'\\nFBA seeks to maximize or minimize an objective function Z = cTv, which \\ncan be any linear combination of fluxes, where c is a vector of weights,\\nindicating how much each reaction (such as the biomass reaction when \\nsimulating maximum growth) contributes to the objective function. In \\npractice, when only one reaction is desired for maximization or \\nminimization, c is a vector of zeros with a one at the position of the\\nreaction of interest (Fig. 1d).\\n'"
       ]
      }
     ], 
     "prompt_number": 12
    }, 
    {
     "cell_type": "code", 
     "collapsed": false, 
     "input": [
      "x = pulp.LpVariable(\"x\", 0, 3)", 
      "y = pulp.LpVariable(\"y\", 0, 1)", 
      "", 
      "prob = pulp.LpProblem(\"myProblem\", pulp.LpMinimize)", 
      "prob += x + y <= 2", 
      "prob += -4*x + y", 
      "", 
      "status = prob.solve(pulp.GLPK(msg = 0))", 
      "print pulp.LpStatus[status]", 
      "print pulp.value(y), pulp.value(x)"
     ], 
     "language": "python", 
     "outputs": [
      {
       "output_type": "stream", 
       "stream": "stdout", 
       "text": [
        "Optimal", 
        "0.0 2.0"
       ]
      }
     ], 
     "prompt_number": 29
    }, 
    {
     "cell_type": "code", 
     "collapsed": false, 
     "input": [
      "import pulp", 
      "prob = pulp.LpProblem(\"myProblem\", pulp.LpMinimize)", 
      "", 
      "compound_symbols = (for c.symbol in compounds)", 
      "", 
      "x = pulp.LpVariable.dicts('compounds', compound_symbols, ", 
      "                            lowBound = 0,", 
      "                            upBound = 1,", 
      "                            cat = pulp.LpInteger)", 
      "", 
      "'''", 
      "FBA seeks to maximize or minimize an objective function Z = cTv, which ", 
      "can be any linear combination of fluxes, where c is a vector of weights,", 
      "indicating how much each reaction (such as the biomass reaction when ", 
      "simulating maximum growth) contributes to the objective function. In ", 
      "practice, when only one reaction is desired for maximization or ", 
      "minimization, c is a vector of zeros with a one at the position of the", 
      "reaction of interest.", 
      "'''", 
      "", 
      "# compounds * fluxes", 
      "", 
      "prob += ", 
      "", 
      "# Create a variable in LP problem for each compound", 
      "# present in any of the reactions", 
      "compound_vars = {}", 
      "for compound in compounds:", 
      "    v = pulp.LpVariable(compound.unique_symbol,", 
      "                        compound.min_value,", 
      "                        compound.max_value)", 
      "", 
      "    compound_vars[compound.unique_symbol] = v", 
      "    ", 
      "# Create a constraint for each reaction"
     ], 
     "language": "python", 
     "outputs": [
      {
       "ename": "SyntaxError", 
       "evalue": "invalid syntax (<ipython-input-5-89f6bafdb446>, line 4)", 
       "output_type": "pyerr", 
       "traceback": [
        "\u001b[0;36m  File \u001b[0;32m\"<ipython-input-5-89f6bafdb446>\"\u001b[0;36m, line \u001b[0;32m4\u001b[0m\n\u001b[0;31m    compound_symbols = (for c.symbol in compounds)\u001b[0m\n\u001b[0m                          ^\u001b[0m\n\u001b[0;31mSyntaxError\u001b[0m\u001b[0;31m:\u001b[0m invalid syntax\n"
       ]
      }
     ], 
     "prompt_number": 5
    }, 
    {
     "cell_type": "code", 
     "collapsed": false, 
     "input": [
      "import pulp", 
      "prob = pulp.LpProblem(\"myProblem\", pulp.LpMinimize)", 
      "", 
      "compound_symbols = ['A','B','C','D','E']", 
      "#compound_symbols = (c.symbol for c in compounds)", 
      "", 
      "x = pulp.LpVariable.dicts('compound', compound_symbols, ", 
      "                            lowBound = 0,", 
      "                            upBound = 1,", 
      "                            cat = 'Continuous')", 
      "x"
     ], 
     "language": "python", 
     "outputs": [
      {
       "output_type": "pyout", 
       "prompt_number": 16, 
       "text": [
        "{'A': compound_A,", 
        " 'B': compound_B,", 
        " 'C': compound_C,", 
        " 'D': compound_D,", 
        " 'E': compound_E}"
       ]
      }
     ], 
     "prompt_number": 16
    }, 
    {
     "cell_type": "code", 
     "collapsed": false, 
     "input": [
      "pulp.LpVariable.dicts?"
     ], 
     "language": "python", 
     "outputs": [], 
     "prompt_number": 9
    }, 
    {
     "cell_type": "code", 
     "collapsed": true, 
     "input": [], 
     "language": "python", 
     "outputs": []
    }
   ]
  }
 ]
}