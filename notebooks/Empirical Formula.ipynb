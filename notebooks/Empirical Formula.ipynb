{
 "metadata": {
  "name": ""
 },
 "nbformat": 3,
 "nbformat_minor": 0,
 "worksheets": [
  {
   "cells": [
    {
     "cell_type": "code",
     "collapsed": false,
     "input": [
      "import re\n",
      "\n",
      "formula = 'H12C10N5O13P3'\n",
      "\n",
      "def parse_empirical_formula(formula, as_html=False):\n",
      "    parsed = list((match.group(1), match.group(2)) for \n",
      "                  match in re.finditer(r'([A-Z][a-z]*)([0-9]*)', formula))\n",
      "\n",
      "    if as_html is True:\n",
      "        return ''.join(map(lambda x:'%s<sub>%s</sub>' % (x), parsed))\n",
      "\n",
      "    return parsed\n",
      "\n",
      "parse_empirical_formula(formula, as_html=False)"
     ],
     "language": "python",
     "metadata": {},
     "outputs": [
      {
       "metadata": {},
       "output_type": "pyout",
       "prompt_number": 1,
       "text": [
        "[('H', '12'), ('C', '10'), ('N', '5'), ('O', '13'), ('P', '3')]"
       ]
      }
     ],
     "prompt_number": 1
    },
    {
     "cell_type": "markdown",
     "metadata": {},
     "source": [
      "Way cooler use of PLY lexer to parse formula\n",
      "\n",
      "http://www.dalkescientific.com/writings/NBN/parsing_with_ply.html\n",
      "     "
     ]
    },
    {
     "cell_type": "code",
     "collapsed": true,
     "input": [],
     "language": "python",
     "metadata": {},
     "outputs": []
    }
   ],
   "metadata": {}
  }
 ]
}